{
 "cells": [
  {
   "cell_type": "code",
   "execution_count": 1,
   "metadata": {},
   "outputs": [],
   "source": [
    "import numpy as np"
   ]
  },
  {
   "cell_type": "code",
   "execution_count": 14,
   "metadata": {},
   "outputs": [],
   "source": [
    "dt = np.dtype('int')"
   ]
  },
  {
   "cell_type": "code",
   "execution_count": 4,
   "metadata": {},
   "outputs": [],
   "source": [
    "def show_y(arr):\n",
    "    step_y = len(arr)\n",
    "    ans = \"(\"\n",
    "    for j in range(len(arr), 0, -1):\n",
    "        if arr[j] != 0:\n",
    "            if arr[j] != 1:\n",
    "                ans += str(int(arr[j])) + '*' + 'y' +'^' + str(step_y) + ' + '\n",
    "            else:\n",
    "                ans += 'y' +'^' + str(step_y) + ' + '\n",
    "        step_y -= 1\n",
    "    if arr[0] != 0:\n",
    "        ans += str(arr[0]) \n",
    "    elif ans != '(' and ans[-2] == '+':\n",
    "        ans = ans[:-3]\n",
    "    return ans + ')'\n",
    "#         ans += lit_ans + '*' + 'x' +'^' + str(step_x) + ' + '"
   ]
  },
  {
   "cell_type": "code",
   "execution_count": 5,
   "metadata": {},
   "outputs": [
    {
     "name": "stdout",
     "output_type": "stream",
     "text": [
      "(2*y^2 + y^1 + 3)\n",
      "()\n",
      "(3)\n",
      "(2*y^2)\n",
      "()\n",
      "(3)\n",
      "(3*y^1)\n"
     ]
    }
   ],
   "source": [
    "print(show_y(np.poly1d([2, 1, 3])))\n",
    "print(show_y(np.poly1d([0, 0, 0])))\n",
    "print(show_y(np.poly1d([3])))\n",
    "print(show_y(np.poly1d([2, 0, 0])))\n",
    "print(show_y(np.poly1d([0])))\n",
    "print(show_y(np.poly1d([0, 0, 3])))\n",
    "print(show_y(np.poly1d([0, 3, 0])))\n"
   ]
  },
  {
   "cell_type": "code",
   "execution_count": 6,
   "metadata": {},
   "outputs": [],
   "source": [
    "def show(arr):\n",
    "    step_x = len(arr) - 1\n",
    "    ans = \"\"\n",
    "    for i in range(len(arr) - 1):\n",
    "        if list(arr[i]) != [0] and show_y(arr[i]) != '()':\n",
    "            ans += show_y(arr[i]) + '*' + 'x' +'^' + str(step_x) + ' + '\n",
    "        step_x -= 1\n",
    "\n",
    "    if list(arr[-1]) != [0] and show_y(arr[-1]) != '()':\n",
    "        ans += show_y(arr[-1])\n",
    "    elif ans and ans[-2] == '+':\n",
    "        ans = ans[:-2]\n",
    "    return ans"
   ]
  },
  {
   "cell_type": "code",
   "execution_count": 7,
   "metadata": {},
   "outputs": [
    {
     "data": {
      "text/plain": [
       "'(2*y^2 + y^1 + 3)*x^2 + (y^1 + 2)'"
      ]
     },
     "execution_count": 7,
     "metadata": {},
     "output_type": "execute_result"
    }
   ],
   "source": [
    "show([np.poly1d([2, 1, 3]), np.poly1d([0]), np.poly1d([1, 2])])"
   ]
  },
  {
   "cell_type": "code",
   "execution_count": null,
   "metadata": {},
   "outputs": [],
   "source": [
    "f = np.polyadd(a, [0])\n",
    "a = [[0], [0], [0], [1]]\n",
    "b = [[0], [0], [0], [0]]"
   ]
  },
  {
   "cell_type": "code",
   "execution_count": null,
   "metadata": {},
   "outputs": [],
   "source": [
    "print(show(np.polymul([1, 0, 3], [1, 2]), 'x'))"
   ]
  },
  {
   "cell_type": "code",
   "execution_count": null,
   "metadata": {},
   "outputs": [],
   "source": [
    "# реализуем перемножение двух многочленов от x, таких, что коэффициенты при x^i - это \n",
    "# многочлены от y"
   ]
  },
  {
   "cell_type": "code",
   "execution_count": 8,
   "metadata": {},
   "outputs": [],
   "source": [
    "def mult(a, b):\n",
    "    ans = [np.poly1d([int(0)])] * (len(a) + len(b) - 1)\n",
    "    for i in range(len(a)):\n",
    "        # хотим вычислить коэффициент при x^((len(a) + len(b) - 1) - i)\n",
    "        for j in range(len(b)):\n",
    "            ans[i + j] += np.polymul(a[i], b[j])\n",
    "    return ans"
   ]
  },
  {
   "cell_type": "code",
   "execution_count": 43,
   "metadata": {},
   "outputs": [
    {
     "data": {
      "text/plain": [
       "[poly1d([0.]),\n",
       " poly1d([0.]),\n",
       " poly1d([2., 5., 4., 1.]),\n",
       " poly1d([ 8., 20., 16.,  4.]),\n",
       " poly1d([ 9., 11.,  3.]),\n",
       " poly1d([7., 7., 1.]),\n",
       " poly1d([12., 13.,  3.])]"
      ]
     },
     "execution_count": 43,
     "metadata": {},
     "output_type": "execute_result"
    }
   ],
   "source": [
    "a = [[2,3,1], [2,1], [1,0], [3,1]]\n",
    "b = [[0], [0], [1,1], [4,3]]\n",
    "mult(a, b)"
   ]
  },
  {
   "cell_type": "code",
   "execution_count": 9,
   "metadata": {},
   "outputs": [],
   "source": [
    "def add(a, b):\n",
    "    if len(a) < len(b):\n",
    "        a, b = b, a\n",
    "    ans = a[::]\n",
    "    ind = len(ans) - 1\n",
    "    for i in range(len(b) - 1, -1, -1):\n",
    "        ans[ind] = np.polyadd(ans[ind], b[i])\n",
    "        ind -= 1\n",
    "    return ans"
   ]
  },
  {
   "cell_type": "code",
   "execution_count": 44,
   "metadata": {},
   "outputs": [
    {
     "data": {
      "text/plain": [
       "[[0], [0], array([2, 3, 1]), array([2, 1]), array([2, 1]), array([7, 4])]"
      ]
     },
     "execution_count": 44,
     "metadata": {},
     "output_type": "execute_result"
    }
   ],
   "source": [
    "a = [[2,3,1], [2,1], [1,0], [3,1]]\n",
    "b = [[0], [0], [0], [0], [1,1], [4,3]]\n",
    "add(a, b)"
   ]
  },
  {
   "cell_type": "code",
   "execution_count": null,
   "metadata": {},
   "outputs": [],
   "source": [
    "N = 8\n",
    "# \n",
    "# \n",
    "# \n",
    "# \n",
    "x = [np.poly1d([1]), np.poly1d([0])]\n",
    "y = [np.poly1d([1, 0])]\n",
    "minus_one = [np.poly1d([-1])]\n",
    "\n",
    "a = [np.poly1d([0])]\n",
    "b = [np.poly1d([0])]\n",
    "f = add(x, a)\n",
    "\n",
    "variable = {}\n",
    "variable[0] = f\n",
    "variable[1] = a\n",
    "variable[2] = b\n",
    "\n",
    "\n",
    "import time\n",
    "start = time.time()\n",
    "for i in range(1, N):\n",
    "#     new_a = mult(x, \n",
    "#                  (add(mult(add(a, x), \n",
    "#                            add(a, x)), \n",
    "#                       mult(mult(add(y, minus_one),\n",
    "#                                 add(x, a)),\n",
    "#                            b))))\n",
    "    print(variable)\n",
    "    new_a = make_equlation(f, f, f, b)\n",
    "#     print(1, f, f, f, b)\n",
    "#     print(new_a)\n",
    "    \n",
    "    print ('new_a', time.time() - start)\n",
    "    start = time.time()\n",
    "#     new_b = mult(x, \n",
    "#                  (add(mult(add(a, x), \n",
    "#                            a), \n",
    "#                       mult(mult(add(y, minus_one),\n",
    "#                                 a),\n",
    "#                            b))))\n",
    "    new_b = make_equlation(f, a, a, b)\n",
    "#     print(2, f, a, a, b)\n",
    "#     print(new_b)\n",
    "    print ('new_b', time.time() - start)\n",
    "    start = time.time()\n",
    "    a = new_a\n",
    "    b = new_b\n",
    "\n",
    "    f = add(x, a)\n",
    "    \n",
    "    variable[0] = f\n",
    "    variable[1] = a\n",
    "    variable[2] = b\n",
    "    print(variable)\n",
    "    \n",
    "    cutted_f = f[(-2 * i - 2):]\n",
    "#     f = add(x, cutted)\n",
    "    print(show(cutted_f), end='\\n\\n')\n",
    "    \n",
    "new_a = mult(x, \n",
    "             (add(mult(f, \n",
    "                       f), \n",
    "                  mult(mult(add(y, minus_one),\n",
    "                           f),\n",
    "                       b))))\n",
    "print ('new_a', time.time() - start)\n",
    "a = new_a\n",
    "f = add(x, a)\n",
    "cutted_f = f[(-2 * i - 4):]\n",
    "print(show(cutted_f), end='\\n\\n')\n",
    "# #     cutted\n",
    "# #     print(a)\n",
    "#     cutted = a[(-2 * i - 2):]\n",
    "# #     print(cutted)\n",
    "#     f = add(x, cutted)\n",
    "#     print(show(f), end='\\n\\n')\n",
    "    "
   ]
  },
  {
   "cell_type": "code",
   "execution_count": null,
   "metadata": {},
   "outputs": [],
   "source": []
  },
  {
   "cell_type": "code",
   "execution_count": null,
   "metadata": {},
   "outputs": [],
   "source": []
  },
  {
   "cell_type": "code",
   "execution_count": null,
   "metadata": {},
   "outputs": [],
   "source": [
    "N = 8\n",
    "# \n",
    "# \n",
    "# \n",
    "# \n",
    "x = [np.poly1d([1]), np.poly1d([0])]\n",
    "y = [np.poly1d([1, 0])]\n",
    "minus_one = [np.poly1d([-1])]\n",
    "\n",
    "a = [np.poly1d([0])]\n",
    "b = [np.poly1d([0])]\n",
    "c = [np.poly1d([0])]\n",
    "d = [np.poly1d([0])]\n",
    "e = [np.poly1d([0])]\n",
    "f = add(x, a)\n",
    "\n",
    "import time\n",
    "start = time.time()\n",
    "null = start\n",
    "for i in range(1, N - 1):\n",
    "    new_a = make_equlation(f, f, b, c)\n",
    "    print ('new_a', time.time() - start)\n",
    "    \n",
    "    start = time.time()\n",
    "    new_b = make_equlation(f, a, b, c)\n",
    "    print ('new_b', time.time() - start)\n",
    "    \n",
    "    start = time.time()\n",
    "    new_c = make_equlation(f, a, e, c)\n",
    "    print ('new_c', time.time() - start)\n",
    "    \n",
    "    start = time.time()\n",
    "    new_d = make_equlation(f, a, b, c)\n",
    "    print ('new_d', time.time() - start)\n",
    "    \n",
    "    start = time.time()\n",
    "    new_e = make_equlation(a, a, b, c)\n",
    "    print ('new_e', time.time() - start)\n",
    "    \n",
    "    a = new_a\n",
    "    b = new_b\n",
    "    c = new_c\n",
    "    d = new_d\n",
    "    e = new_e\n",
    "    f = add(x, a)\n",
    "    cutted_f = f[(-2 * i - 2):]\n",
    "    print(show(cutted_f), end='\\n\\n')\n",
    "\n",
    "start = time.time()\n",
    "new_a = make_equlation(f, f, b, c)\n",
    "print ('new_a', time.time() - start)\n",
    "a = new_a\n",
    "f = add(x, a)\n",
    "cutted_f = f[(-2 * i - 4):]\n",
    "print(show(cutted_f), end='\\n\\n')\n",
    "print('всего заняло:', time.time() - null)"
   ]
  },
  {
   "cell_type": "code",
   "execution_count": null,
   "metadata": {},
   "outputs": [],
   "source": [
    "new_a = make_equlation(f, f, b, c)\n",
    "print ('new_a', time.time() - start)\n",
    "a = new_a\n",
    "f = add(x, a)\n",
    "cutted_f = f[-15:]\n",
    "print(show(cutted_f), end='\\n\\n')"
   ]
  },
  {
   "cell_type": "code",
   "execution_count": null,
   "metadata": {},
   "outputs": [],
   "source": [
    "def make_equlation(a, b, c, d):\n",
    "    return eval('mult(x, (add(mult(a, b), mult(mult(add(y, minus_one), c),d))))')"
   ]
  },
  {
   "cell_type": "code",
   "execution_count": 10,
   "metadata": {},
   "outputs": [],
   "source": [
    "def make_equlation(a, b, c, d, xy_equation=True):\n",
    "    x = [np.poly1d([int(1)]), np.poly1d([int(0)])]\n",
    "    y = [np.poly1d([int(1), int(0)])]\n",
    "    minus_one = [np.poly1d([int(-1)])]\n",
    "    if (xy_equation):\n",
    "        return mult(x,\n",
    "                    add(mult(a, b),\n",
    "                        mult(mult(add(y, minus_one),\n",
    "                                  c),\n",
    "                             d)))\n",
    "    else:\n",
    "        return mult(x,\n",
    "                    add(mult(a, b),\n",
    "                        mult(mult(minus_one,\n",
    "                                  c),\n",
    "                             d)))"
   ]
  },
  {
   "cell_type": "code",
   "execution_count": 11,
   "metadata": {},
   "outputs": [
    {
     "name": "stdout",
     "output_type": "stream",
     "text": [
      "(1.0)*x^3 + (1.0)*x^1 \n",
      "\n",
      "(2.0)*x^5 + (1.0)*x^3 + (1.0)*x^1 \n",
      "\n",
      "(5.0)*x^7 + (2.0)*x^5 + (1.0)*x^3 + (1.0)*x^1 \n",
      "\n",
      "(14.0)*x^9 + (5.0)*x^7 + (2.0)*x^5 + (1.0)*x^3 + (1.0)*x^1 \n",
      "\n",
      "(42.0)*x^11 + (14.0)*x^9 + (5.0)*x^7 + (2.0)*x^5 + (1.0)*x^3 + (1.0)*x^1 \n",
      "\n",
      "(y^1 + 131.0)*x^13 + (42.0)*x^11 + (14.0)*x^9 + (5.0)*x^7 + (2.0)*x^5 + (1.0)*x^3 + (1.0)*x^1 \n",
      "\n",
      "(y^2 + 7*y^1 + 421.0)*x^15 + (y^1 + 131.0)*x^13 + (42.0)*x^11 + (14.0)*x^9 + (5.0)*x^7 + (2.0)*x^5 + (1.0)*x^3 + (1.0)*x^1 \n",
      "\n",
      "(y^3 + 8*y^2 + 36*y^1 + 1385.0)*x^17 + (y^2 + 7*y^1 + 421.0)*x^15 + (y^1 + 131.0)*x^13 + (42.0)*x^11 + (14.0)*x^9 + (5.0)*x^7 + (2.0)*x^5 + (1.0)*x^3 + (1.0)*x^1 \n",
      "\n",
      "(y^4 + 9*y^3 + 45*y^2 + 165*y^1 + 4642.0)*x^19 + (y^3 + 8*y^2 + 36*y^1 + 1385.0)*x^17 + (y^2 + 7*y^1 + 421.0)*x^15 + (y^1 + 131.0)*x^13 + (42.0)*x^11 + (14.0)*x^9 + (5.0)*x^7 + (2.0)*x^5 + (1.0)*x^3 + (1.0)*x^1 \n",
      "\n",
      "new_a 0.03321504592895508\n",
      "(y^5 + 10*y^4 + 55*y^3 + 220*y^2 + 715*y^1 + 15795.0)*x^21 + (y^4 + 9*y^3 + 45*y^2 + 165*y^1 + 4642.0)*x^19 + (y^3 + 8*y^2 + 36*y^1 + 1385.0)*x^17 + (y^2 + 7*y^1 + 421.0)*x^15 + (y^1 + 131.0)*x^13 + (42.0)*x^11 + (14.0)*x^9 + (5.0)*x^7 + (2.0)*x^5 + (1.0)*x^3 + (1.0)*x^1 \n",
      "всего заняло: 1.419813871383667\n"
     ]
    }
   ],
   "source": [
    "# import time\n",
    "# start = time.time()\n",
    "k = 21\n",
    "N = int((k + 1) / 2)\n",
    "# \n",
    "# \n",
    "# \n",
    "# \n",
    "# np.dtype('O')\n",
    "x = [np.poly1d([int(1)]), np.poly1d([int(0)])]\n",
    "y = [np.poly1d([int(1), int(0)])]\n",
    "minus_one = [np.poly1d([int(-1)])]\n",
    "\n",
    "\n",
    "# arr = [[1, 0, 0, 2, 0],\n",
    "#        [2, 3, 0, 2, 0],\n",
    "#        [3, 1, 0, 2, 0]]\n",
    "\n",
    "arr = [[1, 0, 0, 0, 2],\n",
    "       [2, 0, 1, 1, 2]]\n",
    "\n",
    "arr = [[1, 0, 0, 2, 0],\n",
    "       [2, 3, 0, 2, 0],\n",
    "       [3, 4, 0, 2, 0],\n",
    "       [4, 5, 0, 2, 0],\n",
    "       [5, 1, 0, 2, 0]]\n",
    "\n",
    "variable = {}\n",
    "f = add(x, [np.poly1d([int(0)])])\n",
    "variable[0] = f\n",
    "\n",
    "for i in range(len(arr)):\n",
    "    variable[arr[i][0]] = [np.poly1d([int(0)])]\n",
    "\n",
    "\n",
    "import time\n",
    "start = time.time()\n",
    "null = start\n",
    "for i in range(1, N - 1):\n",
    "#     print('>>>>>>>>>>')\n",
    "#     print(variable)\n",
    "    new_variable = {}\n",
    "    for j in range(1, len(variable)):\n",
    "#         print(j, variable[arr[j - 1][1]], variable[arr[j - 1][2]], \n",
    "#                  variable[arr[j - 1][3]], variable[arr[j - 1][4]])\n",
    "        new_variable[j] = make_equlation(variable[arr[j - 1][1]], variable[arr[j - 1][2]], \n",
    "                                         variable[arr[j - 1][3]], variable[arr[j - 1][4]])\n",
    "        new_variable[j] = new_variable[j][-2*N + 1:]\n",
    "#         print(new_variable[j])\n",
    "#     print(new_variable)\n",
    "    for j in range(1, len(variable)):\n",
    "        variable[j] = new_variable[j]\n",
    "    \n",
    "    f = add(x, variable[1])\n",
    "    variable[0] = f\n",
    "    cutted_f = f[(-2 * i - 2):]\n",
    "    print(show(cutted_f), end='\\n\\n')\n",
    "\n",
    "start = time.time()\n",
    "new_a = make_equlation(variable[arr[0][1]], variable[arr[0][2]], \n",
    "                       variable[arr[0][3]], variable[arr[0][4]])\n",
    "print ('new_a', time.time() - start)\n",
    "a = new_a\n",
    "f = add(x, a)\n",
    "# print(i)\n",
    "# print(f)\n",
    "сutted_f = f\n",
    "# print(show(cutted_f), end='\\n\\n')\n",
    "print(show(f[-N* 2:]))\n",
    "print('всего заняло:', time.time() - null)"
   ]
  },
  {
   "cell_type": "code",
   "execution_count": null,
   "metadata": {},
   "outputs": [],
   "source": [
    "(y^5 + 10*y^4 + 55*y^3 + 220*y^2 + 715*y^1 + 15795.0)*x^21 + (y^4 + 9*y^3 + 45*y^2 + 165*y^1 + 4642.0)*x^19 + (y^3 + 8*y^2 + 36*y^1 + 1385.0)*x^17 + (y^2 + 7*y^1 + 421.0)*x^15 + (y^1 + 131.0)*x^13 + (42.0)*x^11 + (14.0)*x^9 + (5.0)*x^7 + (2.0)*x^5 + (1.0)*x^3 + (1.0)*x^1 "
   ]
  },
  {
   "cell_type": "code",
   "execution_count": null,
   "metadata": {},
   "outputs": [],
   "source": [
    "type(x[0][3])"
   ]
  },
  {
   "cell_type": "code",
   "execution_count": null,
   "metadata": {},
   "outputs": [],
   "source": [
    "# 5\n",
    "1 0 0 2 0\n",
    "2 3 0 4 0\n",
    "3 0 5 2 5\n",
    "4 3 5 4 5\n",
    "5 1 0 2 0"
   ]
  },
  {
   "cell_type": "code",
   "execution_count": null,
   "metadata": {},
   "outputs": [],
   "source": [
    "13    1.4490985870361328     0.3978149890899658\n",
    "15    4.538865804672241      0.6532938480377197\n",
    "17    19.676887273788452     1.096303939819336\n",
    "21    331.8076431751251      \n",
    "\n",
    "\n",
    "7 13   107.94368362426758\n",
    "       36.235427379608154\n",
    "    \n",
    "заняло  0.0 часов 7.0 минут 41.352500438690186 секунд"
   ]
  },
  {
   "cell_type": "code",
   "execution_count": 16,
   "metadata": {},
   "outputs": [
    {
     "ename": "TypeError",
     "evalue": "__init__() got an unexpected keyword argument 'dtype'",
     "output_type": "error",
     "traceback": [
      "\u001b[1;31m---------------------------------------------------------------------------\u001b[0m",
      "\u001b[1;31mTypeError\u001b[0m                                 Traceback (most recent call last)",
      "\u001b[1;32m<ipython-input-16-6f8597ed21b8>\u001b[0m in \u001b[0;36m<module>\u001b[1;34m\u001b[0m\n\u001b[0;32m      1\u001b[0m \u001b[1;31m# np.dtype('O')\u001b[0m\u001b[1;33m\u001b[0m\u001b[1;33m\u001b[0m\u001b[1;33m\u001b[0m\u001b[0m\n\u001b[1;32m----> 2\u001b[1;33m \u001b[0ma\u001b[0m \u001b[1;33m=\u001b[0m \u001b[0mnp\u001b[0m\u001b[1;33m.\u001b[0m\u001b[0mpoly1d\u001b[0m\u001b[1;33m(\u001b[0m\u001b[1;33m[\u001b[0m\u001b[1;36m1\u001b[0m\u001b[1;33m,\u001b[0m \u001b[1;36m4\u001b[0m\u001b[1;33m,\u001b[0m \u001b[1;36m2\u001b[0m\u001b[1;33m,\u001b[0m \u001b[1;36m5\u001b[0m\u001b[1;33m]\u001b[0m\u001b[1;33m,\u001b[0m \u001b[0mdtype\u001b[0m\u001b[1;33m=\u001b[0m\u001b[0mdt\u001b[0m\u001b[1;33m)\u001b[0m\u001b[1;33m\u001b[0m\u001b[1;33m\u001b[0m\u001b[0m\n\u001b[0m\u001b[0;32m      3\u001b[0m \u001b[0mb\u001b[0m \u001b[1;33m=\u001b[0m \u001b[0mnp\u001b[0m\u001b[1;33m.\u001b[0m\u001b[0mpoly1d\u001b[0m\u001b[1;33m(\u001b[0m\u001b[1;33m[\u001b[0m \u001b[1;36m1\u001b[0m\u001b[1;33m,\u001b[0m \u001b[1;36m0\u001b[0m\u001b[1;33m,\u001b[0m \u001b[1;36m4\u001b[0m\u001b[1;33m]\u001b[0m\u001b[1;33m)\u001b[0m\u001b[1;33m\u001b[0m\u001b[1;33m\u001b[0m\u001b[0m\n\u001b[0;32m      4\u001b[0m \u001b[0mtype\u001b[0m\u001b[1;33m(\u001b[0m\u001b[0mb\u001b[0m\u001b[1;33m[\u001b[0m\u001b[1;36m1\u001b[0m\u001b[1;33m]\u001b[0m\u001b[1;33m)\u001b[0m\u001b[1;33m\u001b[0m\u001b[1;33m\u001b[0m\u001b[0m\n",
      "\u001b[1;31mTypeError\u001b[0m: __init__() got an unexpected keyword argument 'dtype'"
     ]
    }
   ],
   "source": [
    "# np.dtype('O')\n",
    "a = np.poly1d([1, 4, 2, 5], dtype=dt)\n",
    "b = np.poly1d([ 1, 0, 4])\n",
    "type(b[1])"
   ]
  },
  {
   "cell_type": "code",
   "execution_count": 21,
   "metadata": {},
   "outputs": [
    {
     "ename": "TypeError",
     "evalue": "__init__() got an unexpected keyword argument 'type'",
     "output_type": "error",
     "traceback": [
      "\u001b[1;31m---------------------------------------------------------------------------\u001b[0m",
      "\u001b[1;31mTypeError\u001b[0m                                 Traceback (most recent call last)",
      "\u001b[1;32m<ipython-input-21-b25fb72be8c7>\u001b[0m in \u001b[0;36m<module>\u001b[1;34m\u001b[0m\n\u001b[1;32m----> 1\u001b[1;33m \u001b[0mnp\u001b[0m\u001b[1;33m.\u001b[0m\u001b[0mpoly1d\u001b[0m\u001b[1;33m(\u001b[0m\u001b[1;33m[\u001b[0m\u001b[1;36m1\u001b[0m\u001b[1;33m,\u001b[0m \u001b[1;36m4\u001b[0m\u001b[1;33m,\u001b[0m \u001b[1;36m2\u001b[0m\u001b[1;33m,\u001b[0m \u001b[1;36m5\u001b[0m\u001b[1;33m]\u001b[0m\u001b[1;33m,\u001b[0m \u001b[0mtype\u001b[0m \u001b[1;33m=\u001b[0m \u001b[1;34m'O'\u001b[0m\u001b[1;33m)\u001b[0m\u001b[1;33m\u001b[0m\u001b[1;33m\u001b[0m\u001b[0m\n\u001b[0m",
      "\u001b[1;31mTypeError\u001b[0m: __init__() got an unexpected keyword argument 'type'"
     ]
    }
   ],
   "source": [
    "np.poly1d([1, 4, 2, 5], type = 'O')\n"
   ]
  },
  {
   "cell_type": "code",
   "execution_count": 35,
   "metadata": {},
   "outputs": [
    {
     "ename": "AttributeError",
     "evalue": "'poly1d' object has no attribute 'astype'",
     "output_type": "error",
     "traceback": [
      "\u001b[1;31m---------------------------------------------------------------------------\u001b[0m",
      "\u001b[1;31mAttributeError\u001b[0m                            Traceback (most recent call last)",
      "\u001b[1;32m<ipython-input-35-97e0e19dc8a6>\u001b[0m in \u001b[0;36m<module>\u001b[1;34m\u001b[0m\n\u001b[0;32m      1\u001b[0m \u001b[0mdt\u001b[0m \u001b[1;33m=\u001b[0m \u001b[0mnp\u001b[0m\u001b[1;33m.\u001b[0m\u001b[0mdtype\u001b[0m\u001b[1;33m(\u001b[0m\u001b[1;34m'O'\u001b[0m\u001b[1;33m)\u001b[0m\u001b[1;33m\u001b[0m\u001b[1;33m\u001b[0m\u001b[0m\n\u001b[0;32m      2\u001b[0m \u001b[1;33m(\u001b[0m\u001b[0mnp\u001b[0m\u001b[1;33m.\u001b[0m\u001b[0marray\u001b[0m\u001b[1;33m(\u001b[0m\u001b[1;33m[\u001b[0m\u001b[1;36m3\u001b[0m\u001b[1;33m,\u001b[0m \u001b[1;36m5\u001b[0m\u001b[1;33m,\u001b[0m \u001b[1;36m3\u001b[0m\u001b[1;33m]\u001b[0m\u001b[1;33m)\u001b[0m\u001b[1;33m)\u001b[0m\u001b[1;33m.\u001b[0m\u001b[0mastype\u001b[0m\u001b[1;33m(\u001b[0m\u001b[0mint\u001b[0m\u001b[1;33m)\u001b[0m\u001b[1;33m\u001b[0m\u001b[1;33m\u001b[0m\u001b[0m\n\u001b[1;32m----> 3\u001b[1;33m \u001b[0mtype\u001b[0m\u001b[1;33m(\u001b[0m\u001b[1;33m(\u001b[0m\u001b[0mnp\u001b[0m\u001b[1;33m.\u001b[0m\u001b[0mpoly1d\u001b[0m\u001b[1;33m(\u001b[0m\u001b[1;33m[\u001b[0m\u001b[1;36m3\u001b[0m\u001b[1;33m,\u001b[0m \u001b[1;36m5\u001b[0m\u001b[1;33m,\u001b[0m \u001b[1;36m3\u001b[0m\u001b[1;33m]\u001b[0m\u001b[1;33m)\u001b[0m\u001b[1;33m)\u001b[0m\u001b[1;33m.\u001b[0m\u001b[0mastype\u001b[0m\u001b[1;33m(\u001b[0m\u001b[0mint\u001b[0m\u001b[1;33m)\u001b[0m\u001b[1;33m[\u001b[0m\u001b[1;36m1\u001b[0m\u001b[1;33m]\u001b[0m\u001b[1;33m)\u001b[0m\u001b[1;33m\u001b[0m\u001b[1;33m\u001b[0m\u001b[0m\n\u001b[0m",
      "\u001b[1;31mAttributeError\u001b[0m: 'poly1d' object has no attribute 'astype'"
     ]
    }
   ],
   "source": [
    "dt = np.dtype('O')\n",
    "(np.array([3, 5, 3])).astype(int)\n",
    "type((np.poly1d([3, 5, 3])).astype(int)[1])\n"
   ]
  },
  {
   "cell_type": "code",
   "execution_count": null,
   "metadata": {},
   "outputs": [],
   "source": [
    "np.array([3, 5])"
   ]
  },
  {
   "cell_type": "code",
   "execution_count": 18,
   "metadata": {},
   "outputs": [],
   "source": [
    "x = np.array([3, 5], dtype=dt)"
   ]
  },
  {
   "cell_type": "code",
   "execution_count": null,
   "metadata": {},
   "outputs": [],
   "source": [
    "u"
   ]
  },
  {
   "cell_type": "code",
   "execution_count": null,
   "metadata": {},
   "outputs": [],
   "source": []
  }
 ],
 "metadata": {
  "kernelspec": {
   "display_name": "Python 3",
   "language": "python",
   "name": "python3"
  },
  "language_info": {
   "codemirror_mode": {
    "name": "ipython",
    "version": 3
   },
   "file_extension": ".py",
   "mimetype": "text/x-python",
   "name": "python",
   "nbconvert_exporter": "python",
   "pygments_lexer": "ipython3",
   "version": "3.7.3"
  }
 },
 "nbformat": 4,
 "nbformat_minor": 2
}
