{
 "cells": [
  {
   "cell_type": "code",
   "execution_count": 2,
   "metadata": {},
   "outputs": [
    {
     "name": "stdout",
     "output_type": "stream",
     "text": [
      "0.00016498565673828125\n",
      "18\n",
      "1000000000000000000\n",
      "1000000000000000000\n"
     ]
    }
   ],
   "source": [
    "import numpy as np\n",
    "from numba import guvectorize, int64, vectorize, float64\n",
    "import time\n",
    "\n",
    "# 'void(double[:], double[:], double[:])'\n",
    "# [(int64[:], int64[:], int64[:])]\n",
    "# 'void(int64[:], int64[:], int64[:])'\n",
    "@guvectorize([(int64[:], int64[:], int64[:])], '(n), (n)->(n)')#, target='cuda')\n",
    "def multiplication(a, b, res):\n",
    "    # res = np.zeros(len(a))\n",
    "    for i in range(len(a)):\n",
    "        res[i] = a[i] * b[i]\n",
    "\n",
    "\n",
    "N = 9\n",
    "a = [10**N]\n",
    "b = [10**N]\n",
    "res = [0]\n",
    "\n",
    "size = 10 ** 3\n",
    "A = np.array([a for i in range(size)])\n",
    "B = np.array([b for i in range(size)])\n",
    "Res = np.array([res for i in range(size)])\n",
    "s = time.time()\n",
    "multiplication(A, B, Res)\n",
    "e = time.time() - s\n",
    "print(e)\n",
    "print(len(str(Res[0][0])) - 1)\n",
    "print(Res[0][0])\n",
    "print(10**N * 10**N)\n",
    "\n"
   ]
  },
  {
   "cell_type": "code",
   "execution_count": null,
   "metadata": {},
   "outputs": [],
   "source": [
    "# @vectorize([float64[:](float64[:], float64)[:]])\n",
    "# def f(x, y):\n",
    "#     return x + y\n",
    "#\n",
    "# a = np.arange(6)\n",
    "# b = np.arange(6)\n",
    "# kek = np.array([a, b])\n",
    "# c = np.arange(6)\n",
    "# d = np.arange(6)\n",
    "# lol = np.array([c, d])\n",
    "# print(f(lol, kek))\n",
    "#\n",
    "# print(np.array([1, 3, 2]) * np.array([1, 3, 2, 1]))"
   ]
  },
  {
   "cell_type": "code",
   "execution_count": 3,
   "metadata": {},
   "outputs": [
    {
     "data": {
      "text/plain": [
       "17"
      ]
     },
     "execution_count": 3,
     "metadata": {},
     "output_type": "execute_result"
    }
   ],
   "source": [
    "len('51215098041462595')"
   ]
  },
  {
   "cell_type": "code",
   "execution_count": 36,
   "metadata": {},
   "outputs": [
    {
     "name": "stdout",
     "output_type": "stream",
     "text": [
      "<class 'tuple'>\n"
     ]
    }
   ],
   "source": [
    "a = 1, 3, 2\n",
    "print(type(a))"
   ]
  },
  {
   "cell_type": "code",
   "execution_count": 3,
   "metadata": {},
   "outputs": [
    {
     "name": "stdout",
     "output_type": "stream",
     "text": [
      "1 6 6 4 4 3 2 1 10 13 24 6 4 3 6 2 3 2 12 6 3 7 15 5 5 19 2 2 2 2 6 6 3 3 8 1 3 2 1 1 1 1 1 \n"
     ]
    }
   ],
   "source": [
    "new = list(map(int, input().split()))"
   ]
  },
  {
   "cell_type": "code",
   "execution_count": null,
   "metadata": {},
   "outputs": [],
   "source": [
    "1 1 1 1 1 2 3 1 8 3 1 3 6 6 2 2 2 2 19 4 5 15 7 3 6 12 2 3 2 6 3 4 6 24 13 10 1 2 3 4 4 6 6 1 "
   ]
  },
  {
   "cell_type": "code",
   "execution_count": 26,
   "metadata": {},
   "outputs": [
    {
     "name": "stdout",
     "output_type": "stream",
     "text": [
      "1 1 1 1 1 2 3 1 8 3 1 3 6 6 2 2 2 2 19 4 5 15 7 3 6 12 2 3 2 6 3 4 6 24 13 10 1 2 3 4 4 6 6 1 \n"
     ]
    }
   ],
   "source": [
    "save = list(map(int, input().split()))"
   ]
  },
  {
   "cell_type": "code",
   "execution_count": 33,
   "metadata": {},
   "outputs": [
    {
     "name": "stdout",
     "output_type": "stream",
     "text": [
      "[1, 1, 1, 1, 1, 1, 1, 1, 1, 2, 2, 2, 2, 2, 2, 2, 2, 3, 3, 3, 3, 3, 3, 3, 4, 4, 4, 4, 5]\n",
      "[1, 1, 1, 1, 1, 1, 1, 1, 2, 2, 2, 2, 2, 2, 2, 2, 3, 3, 3, 3, 3, 3, 3, 4, 4, 4, 5, 5]\n",
      "\n",
      "\n",
      "[6, 6, 6, 6, 6, 6, 6, 7, 8, 10, 12, 13, 15, 19, 24]\n",
      "[6, 6, 6, 6, 6, 6, 6, 7, 8, 10, 12, 13, 15, 19, 24]\n"
     ]
    }
   ],
   "source": [
    "num = 15\n",
    "print(sorted(save)[:-num])\n",
    "print(sorted(new)[:-num])\n",
    "\n",
    "print('\\n')\n",
    "print(sorted(save)[-num:])\n",
    "print(sorted(new)[-num:])\n",
    "assert sorted(save)[-num:] == sorted(new)[-num:]"
   ]
  },
  {
   "cell_type": "code",
   "execution_count": 19,
   "metadata": {},
   "outputs": [
    {
     "data": {
      "text/plain": [
       "5"
      ]
     },
     "execution_count": 19,
     "metadata": {},
     "output_type": "execute_result"
    }
   ],
   "source": [
    "2 * sum(new) - sum(save)"
   ]
  },
  {
   "cell_type": "code",
   "execution_count": 20,
   "metadata": {},
   "outputs": [
    {
     "data": {
      "text/plain": [
       "3"
      ]
     },
     "execution_count": 20,
     "metadata": {},
     "output_type": "execute_result"
    }
   ],
   "source": [
    "sum([el % 2 for el in save])"
   ]
  },
  {
   "cell_type": "code",
   "execution_count": 21,
   "metadata": {},
   "outputs": [
    {
     "data": {
      "text/plain": [
       "217"
      ]
     },
     "execution_count": 21,
     "metadata": {},
     "output_type": "execute_result"
    }
   ],
   "source": [
    "sum(new)"
   ]
  },
  {
   "cell_type": "code",
   "execution_count": 28,
   "metadata": {},
   "outputs": [
    {
     "data": {
      "text/plain": [
       "0"
      ]
     },
     "execution_count": 28,
     "metadata": {},
     "output_type": "execute_result"
    }
   ],
   "source": [
    "#  кол-во симметричных\n",
    "sum(save) - sum(new)"
   ]
  },
  {
   "cell_type": "code",
   "execution_count": 25,
   "metadata": {
    "scrolled": true
   },
   "outputs": [
    {
     "data": {
      "text/plain": [
       "5"
      ]
     },
     "execution_count": 25,
     "metadata": {},
     "output_type": "execute_result"
    }
   ],
   "source": [
    "# кол-во не симметричных\n",
    "sum(save) - 212 * 2"
   ]
  },
  {
   "cell_type": "markdown",
   "metadata": {},
   "source": [
    "# Iretr 1"
   ]
  },
  {
   "cell_type": "code",
   "execution_count": null,
   "metadata": {},
   "outputs": [],
   "source": [
    "save_1 = []"
   ]
  }
 ],
 "metadata": {
  "kernelspec": {
   "display_name": "Python 3",
   "language": "python",
   "name": "python3"
  },
  "language_info": {
   "codemirror_mode": {
    "name": "ipython",
    "version": 3
   },
   "file_extension": ".py",
   "mimetype": "text/x-python",
   "name": "python",
   "nbconvert_exporter": "python",
   "pygments_lexer": "ipython3",
   "version": "3.7.6"
  }
 },
 "nbformat": 4,
 "nbformat_minor": 4
}
