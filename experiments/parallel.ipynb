{
 "cells": [
  {
   "cell_type": "code",
   "execution_count": 2,
   "metadata": {
    "collapsed": true,
    "pycharm": {
     "is_executing": false
    }
   },
   "outputs": [
    {
     "name": "stdout",
     "text": [
      "kek\n"
     ],
     "output_type": "stream"
    }
   ],
   "source": [
    "\n",
    "import collections\n",
    "import multiprocessing\n",
    "print('kek')\n"
   ]
  },
  {
   "cell_type": "code",
   "execution_count": 3,
   "outputs": [
    {
     "name": "stdout",
     "text": [
      "({'name': 'Ada Lovelace', 'age': 202}, {'name': 'Emmy Noether', 'age': 135}, {'name': 'Marie Curie', 'age': 150}, {'name': 'Tu Youyou', 'age': 87}, {'name': 'Ada Yonath', 'age': 78}, {'name': 'Vera Rubin', 'age': 89}, {'name': 'Sally Ride', 'age': 66})\n"
     ],
     "output_type": "stream"
    }
   ],
   "source": [
    "Scientist = collections.namedtuple('Scientist', [\n",
    "    'name',\n",
    "    'born',\n",
    "])\n",
    "\n",
    "scientists = (\n",
    "    Scientist(name='Ada Lovelace', born=1815),\n",
    "    Scientist(name='Emmy Noether', born=1882),\n",
    "    Scientist(name='Marie Curie', born=1867),\n",
    "    Scientist(name='Tu Youyou', born=1930),\n",
    "    Scientist(name='Ada Yonath', born=1939),\n",
    "    Scientist(name='Vera Rubin', born=1928),\n",
    "    Scientist(name='Sally Ride', born=1951),\n",
    ")\n",
    "\n",
    "def process_item(item):\n",
    "    return {\n",
    "        'name': item.name,\n",
    "        'age': 2017 - item.born\n",
    "    }\n",
    "\n",
    "pool = multiprocessing.Pool()\n",
    "result = pool.map(process_item, scientists)\n",
    "\n",
    "print(tuple(result))"
   ],
   "metadata": {
    "collapsed": false,
    "pycharm": {
     "name": "#%%\n",
     "is_executing": false
    }
   }
  },
  {
   "cell_type": "code",
   "execution_count": null,
   "outputs": [],
   "source": [
    "\n",
    "7 15\n",
    "    >>> boost\n",
    "    34 sec\n",
    "    39 sec\n",
    "    37.5 sec\n",
    "    >>> old"
   ],
   "metadata": {
    "collapsed": false,
    "pycharm": {
     "name": "#%%\n"
    }
   }
  }
 ],
 "metadata": {
  "language_info": {
   "codemirror_mode": {
    "name": "ipython",
    "version": 2
   },
   "file_extension": ".py",
   "mimetype": "text/x-python",
   "name": "python",
   "nbconvert_exporter": "python",
   "pygments_lexer": "ipython2",
   "version": "2.7.6"
  },
  "kernelspec": {
   "name": "python3",
   "language": "python",
   "display_name": "Python 3"
  },
  "pycharm": {
   "stem_cell": {
    "cell_type": "raw",
    "source": [],
    "metadata": {
     "collapsed": false
    }
   }
  }
 },
 "nbformat": 4,
 "nbformat_minor": 0
}