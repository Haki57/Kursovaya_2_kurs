{
 "cells": [
  {
   "cell_type": "code",
   "execution_count": null,
   "metadata": {
    "pycharm": {
     "is_executing": false
    }
   },
   "outputs": [],
   "source": [
    "\n",
    "import collections\n",
    "import multiprocessing\n",
    "print('kek')\n"
   ]
  },
  {
   "cell_type": "code",
   "execution_count": null,
   "metadata": {
    "pycharm": {
     "is_executing": true,
     "name": "#%%\n"
    }
   },
   "outputs": [],
   "source": [
    "Scientist = collections.namedtuple('Scientist', [\n",
    "    'name',\n",
    "    'born',\n",
    "])\n",
    "\n",
    "scientists = (\n",
    "    Scientist(name='Ada Lovelace', born=1815),\n",
    "    Scientist(name='Emmy Noether', born=1882),\n",
    "    Scientist(name='Marie Curie', born=1867),\n",
    "    Scientist(name='Tu Youyou', born=1930),\n",
    "    Scientist(name='Ada Yonath', born=1939),\n",
    "    Scientist(name='Vera Rubin', born=1928),\n",
    "    Scientist(name='Sally Ride', born=1951),\n",
    ")\n",
    "\n",
    "def process_item(item):\n",
    "    return {\n",
    "        'name': item.name,\n",
    "        'age': 2017 - item.born\n",
    "    }\n",
    "\n",
    "pool = multiprocessing.Pool()\n",
    "result = pool.map(process_item, scientists)\n",
    "\n",
    "print(tuple(result))"
   ]
  },
  {
   "cell_type": "code",
   "execution_count": null,
   "metadata": {
    "pycharm": {
     "is_executing": true,
     "name": "#%%\n"
    }
   },
   "outputs": [],
   "source": [
    "\n",
    "7 15\n",
    "    >>> boost\n",
    "    34 sec\n",
    "    39 sec\n",
    "    37.5 sec\n",
    "    >>> old"
   ]
  },
  {
   "cell_type": "code",
   "execution_count": null,
   "metadata": {},
   "outputs": [],
   "source": [
    "from multiprocessing import Pool"
   ]
  },
  {
   "cell_type": "code",
   "execution_count": null,
   "metadata": {
    "pycharm": {
     "is_executing": true,
     "name": "#%%\n"
    }
   },
   "outputs": [],
   "source": [
    " \n",
    " \n",
    "def doubler(number):\n",
    "    return number * number\n",
    " \n",
    " \n",
    "print('kekk')\n",
    "numbers = [5, 10, 20]\n",
    "pool = Pool(processes=3)\n",
    "print('lol')\n",
    "print(pool.map(doubler, numbers))\n",
    "# result = pool.apply_async(doubler, (25, 30))\n",
    "# print(result.get(timeout=1))"
   ]
  },
  {
   "cell_type": "code",
   "execution_count": null,
   "metadata": {
    "pycharm": {
     "is_executing": true,
     "name": "#%%\n"
    }
   },
   "outputs": [],
   "source": [
    "import random\n",
    "arr = [random.randint(10**6, 10**8) for i in range(10**6)]"
   ]
  },
  {
   "cell_type": "code",
   "execution_count": 1,
   "metadata": {
    "pycharm": {
     "is_executing": true,
     "name": "#%%\n"
    }
   },
   "outputs": [
    {
     "data": {
      "text/plain": [
       "[2, 3, 5, 3, [1, 1, 1]]"
      ]
     },
     "execution_count": 1,
     "metadata": {},
     "output_type": "execute_result"
    }
   ],
   "source": [
    "arr = [2, 3,5, 3]\n",
    "arr.append([1,1,1])\n",
    "arr"
   ]
  },
  {
   "cell_type": "code",
   "execution_count": 7,
   "metadata": {},
   "outputs": [
    {
     "data": {
      "text/plain": [
       "4"
      ]
     },
     "execution_count": 7,
     "metadata": {},
     "output_type": "execute_result"
    }
   ],
   "source": [
    "arr = [1, 3, 4]\n",
    "a, b, c, = arr\n",
    "c"
   ]
  },
  {
   "cell_type": "code",
   "execution_count": null,
   "metadata": {},
   "outputs": [],
   "source": []
  }
 ],
 "metadata": {
  "kernelspec": {
   "display_name": "Python 3",
   "language": "python",
   "name": "python3"
  },
  "language_info": {
   "codemirror_mode": {
    "name": "ipython",
    "version": 3
   },
   "file_extension": ".py",
   "mimetype": "text/x-python",
   "name": "python",
   "nbconvert_exporter": "python",
   "pygments_lexer": "ipython3",
   "version": "3.7.3"
  },
  "pycharm": {
   "stem_cell": {
    "cell_type": "raw",
    "metadata": {
     "collapsed": false
    },
    "source": []
   }
  }
 },
 "nbformat": 4,
 "nbformat_minor": 1
}
