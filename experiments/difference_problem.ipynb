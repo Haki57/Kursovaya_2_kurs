{
 "cells": [
  {
   "cell_type": "code",
   "execution_count": 6,
   "metadata": {
    "collapsed": true,
    "pycharm": {
     "is_executing": false
    }
   },
   "outputs": [],
   "source": [
    "from get_series import equations_to_series\n",
    "from poly_functions import show"
   ]
  },
  {
   "cell_type": "code",
   "execution_count": 5,
   "outputs": [
    {
     "data": {
      "text/plain": "'(24*y^2 + 953*y^1 + 3885.0)*x^19 + (2*y^2 + 216*y^1 + 1212.0)*x^17 + (45*y^1 + 384.0)*x^15 + (8*y^1 + 124.0)*x^13 + (y^1 + 41.0)*x^11 + (14.0)*x^9 + (5.0)*x^7 + (2.0)*x^5 + (1.0)*x^3 + (1.0)*x^1 '"
     },
     "metadata": {},
     "output_type": "execute_result",
     "execution_count": 5
    }
   ],
   "source": [
    "arr = [[1, 0, 0, 2, 0],\n",
    "       [2, 3, 0, 4, 0],\n",
    "       [3, 0, 5, 2, 5],\n",
    "       [4, 3, 5, 4, 5],\n",
    "       [5, 1, 0, 2, 0]]\n",
    "equations_to_series(arr, 10)\n",
    "\n",
    "# 1 0 0 2 0\n",
    "# 2 3 0 4 0\n",
    "# 3 0 5 2 5\n",
    "# 4 3 5 4 5\n",
    "# 5 1 0 2 0"
   ],
   "metadata": {
    "collapsed": false,
    "pycharm": {
     "name": "#%%\n",
     "is_executing": false
    }
   }
  },
  {
   "cell_type": "code",
   "execution_count": 6,
   "outputs": [
    {
     "data": {
      "text/plain": "'(3885.0)*x^19 + (1212.0)*x^17 + (384.0)*x^15 + (124.0)*x^13 + (41.0)*x^11 + (14.0)*x^9 + (5.0)*x^7 + (2.0)*x^5 + (1.0)*x^3 + (1.0)*x^1 '"
     },
     "metadata": {},
     "output_type": "execute_result",
     "execution_count": 6
    }
   ],
   "source": [
    "equations_to_series(arr, 10, xy_equation=False)\n",
    "\n"
   ],
   "metadata": {
    "collapsed": false,
    "pycharm": {
     "name": "#%%\n",
     "is_executing": false
    }
   }
  },
  {
   "cell_type": "code",
   "execution_count": 4,
   "outputs": [],
   "source": [
    "brr = [[1, 0, 0, 2, 1],\n",
    "       [2, 3, 0, 2, 1],\n",
    "       [3, 1, 0, 2, 1]]\n",
    "# equations_to_series(brr, 10)\n",
    "# 1 0 0 2 1\n",
    "# 2 3 0 2 1\n",
    "# 3 1 0 2 1"
   ],
   "metadata": {
    "collapsed": false,
    "pycharm": {
     "name": "#%%\n",
     "is_executing": false
    }
   }
  },
  {
   "cell_type": "code",
   "execution_count": 8,
   "outputs": [
    {
     "data": {
      "text/plain": "'(3939.0)*x^19 + (1221.0)*x^17 + (385.0)*x^15 + (124.0)*x^13 + (41.0)*x^11 + (14.0)*x^9 + (5.0)*x^7 + (2.0)*x^5 + (1.0)*x^3 + (1.0)*x^1 '"
     },
     "metadata": {},
     "output_type": "execute_result",
     "execution_count": 8
    }
   ],
   "source": [
    "equations_to_series(brr, 10, xy_equation=False)\n",
    "\n",
    "\n"
   ],
   "metadata": {
    "collapsed": false,
    "pycharm": {
     "name": "#%%\n",
     "is_executing": false
    }
   }
  },
  {
   "cell_type": "code",
   "execution_count": 17,
   "outputs": [
    {
     "data": {
      "text/plain": "'(8*y^1 + 124.0)*x^13 + (y^1 + 41.0)*x^11 + (14.0)*x^9 + (5.0)*x^7 + (2.0)*x^5 + (1.0)*x^3 + (1.0)*x^1 '"
     },
     "metadata": {},
     "output_type": "execute_result",
     "execution_count": 17
    }
   ],
   "source": [
    "res = equations_to_series(brr, 7)\n",
    "res"
   ],
   "metadata": {
    "collapsed": false,
    "pycharm": {
     "name": "#%%\n",
     "is_executing": false
    }
   }
  },
  {
   "cell_type": "code",
   "execution_count": 15,
   "outputs": [
    {
     "data": {
      "text/plain": "str"
     },
     "metadata": {},
     "output_type": "execute_result",
     "execution_count": 15
    }
   ],
   "source": [
    "q = equations_to_series(brr, 7)\n",
    "type(q)"
   ],
   "metadata": {
    "collapsed": false,
    "pycharm": {
     "name": "#%%\n",
     "is_executing": false
    }
   }
  },
  {
   "cell_type": "code",
   "execution_count": 15,
   "outputs": [],
   "source": [
    "# equations_to_series(brr, 7)\n",
    "import numpy as np"
   ],
   "metadata": {
    "collapsed": false,
    "pycharm": {
     "name": "#%%\n",
     "is_executing": false
    }
   }
  },
  {
   "cell_type": "code",
   "execution_count": 20,
   "outputs": [
    {
     "name": "stdout",
     "text": [
      "qqqqqqqqqqqqqqqqqqqqqqqqq\n"
     ],
     "output_type": "stream"
    },
    {
     "data": {
      "text/plain": "'(32.0)*x^13 + (16.0)*x^11 + (8.0)*x^9 + (4.0)*x^7 + (2.0)*x^5 + (1.0)*x^3 + (1.0)*x^1 '"
     },
     "metadata": {},
     "output_type": "execute_result",
     "execution_count": 20
    }
   ],
   "source": [
    "q =  [[1, 0, 0, 0, 2],\n",
    "       [2, 0, 1, 1, 2]]\n",
    "\n",
    "def combo_equations_to_series(equations: list, n: int, xy_equation=True):\n",
    "    XYseries = equations_to_series(equations, n)\n",
    "    Xseries = []\n",
    "    for poly in XYseries:\n",
    "        Xseries.append(np.poly1d([poly[0]]))\n",
    "        # Xseries.append([poly[0]])\n",
    "    return Xseries\n",
    "    \n",
    "show(combo_equations_to_series(q, 7))"
   ],
   "metadata": {
    "collapsed": false,
    "pycharm": {
     "name": "#%%\n",
     "is_executing": false
    }
   }
  },
  {
   "cell_type": "code",
   "execution_count": 18,
   "outputs": [
    {
     "name": "stdout",
     "text": [
      "qqqqqqqqqqqqqqqqqqqqqqqqq\n"
     ],
     "output_type": "stream"
    },
    {
     "data": {
      "text/plain": "'(32.0)*x^13 + (16.0)*x^11 + (8.0)*x^9 + (4.0)*x^7 + (2.0)*x^5 + (1.0)*x^3 + (1.0)*x^1 '"
     },
     "metadata": {},
     "output_type": "execute_result",
     "execution_count": 18
    }
   ],
   "source": [
    "show( equations_to_series(q, 7, False))"
   ],
   "metadata": {
    "collapsed": false,
    "pycharm": {
     "name": "#%%\n",
     "is_executing": false
    }
   }
  },
  {
   "cell_type": "code",
   "execution_count": null,
   "outputs": [],
   "source": [
    "\n"
   ],
   "metadata": {
    "collapsed": false,
    "pycharm": {
     "name": "#%%\n"
    }
   }
  }
 ],
 "metadata": {
  "kernelspec": {
   "display_name": "Python 3",
   "language": "python",
   "name": "python3"
  },
  "language_info": {
   "codemirror_mode": {
    "name": "ipython",
    "version": 2
   },
   "file_extension": ".py",
   "mimetype": "text/x-python",
   "name": "python",
   "nbconvert_exporter": "python",
   "pygments_lexer": "ipython2",
   "version": "2.7.6"
  },
  "pycharm": {
   "stem_cell": {
    "cell_type": "raw",
    "source": [],
    "metadata": {
     "collapsed": false
    }
   }
  }
 },
 "nbformat": 4,
 "nbformat_minor": 0
}